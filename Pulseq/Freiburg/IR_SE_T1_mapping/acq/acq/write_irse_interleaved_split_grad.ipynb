{
  "nbformat": 4,
  "nbformat_minor": 0,
  "metadata": {
    "colab": {
      "provenance": [],
      "collapsed_sections": [
        "noDLaobc8T7-"
      ]
    },
    "kernelspec": {
      "name": "python3",
      "display_name": "Python 3"
    }
  },
  "cells": [
    {
      "cell_type": "markdown",
      "metadata": {
        "id": "dbthhqbYo5n2"
      },
      "source": [
        "# Inversion-Recovery Spin Echo (IRSE) Sequence\n",
        "This script can be used for both qualitative and quantitative acquisitions.\n",
        "Input custom parameters to the function `irse_interleaved_split_gradient` to obtain the PyPulseq `seq` obejct. It can then be downloaded after running `seq.write()`.\n",
        "* The sequence uses an interleaved multislice scheme with random slice order\n",
        "* Gradients are split in order to merge adjacent gradient ramps to save time\n",
        "* Change TI and use a long TR for T1 mapping purposes\n",
        "\n",
        "Questions regarding the sequence itself should be directed to gt2407@columbia.edu;  if you have questions about the PyPulseq package, seek resolution at its own repository (https://github.com/imr-framework/pypulseq/).\n"
      ]
    },
    {
      "cell_type": "markdown",
      "metadata": {
        "id": "hwNVvUHc5xdq"
      },
      "source": [
        "## **INSTALLATION**"
      ]
    },
    {
      "cell_type": "code",
      "metadata": {
        "id": "yr7x-LSjFtIo",
        "colab": {
          "base_uri": "https://localhost:8080/"
        },
        "outputId": "b749897c-e95c-423d-a1de-1caef4488690"
      },
      "source": [
        "#!pip install git+https://github.com/imr-framework/pypulseq.git@1.2.0post4\n",
        "!pip show pypulseq || pip install pypulseq"
      ],
      "execution_count": null,
      "outputs": [
        {
          "output_type": "stream",
          "name": "stdout",
          "text": [
            "\u001b[33mWARNING: Package(s) not found: pypulseq\u001b[0m\u001b[33m\n",
            "\u001b[0mCollecting pypulseq\n",
            "  Downloading pypulseq-1.4.2-py3-none-any.whl (278 kB)\n",
            "\u001b[2K     \u001b[90m━━━━━━━━━━━━━━━━━━━━━━━━━━━━━━━━━━━━━━━━\u001b[0m \u001b[32m278.0/278.0 kB\u001b[0m \u001b[31m3.0 MB/s\u001b[0m eta \u001b[36m0:00:00\u001b[0m\n",
            "\u001b[?25hCollecting coverage>=6.2 (from pypulseq)\n",
            "  Downloading coverage-7.5.4-cp310-cp310-manylinux_2_5_x86_64.manylinux1_x86_64.manylinux_2_17_x86_64.manylinux2014_x86_64.whl (233 kB)\n",
            "\u001b[2K     \u001b[90m━━━━━━━━━━━━━━━━━━━━━━━━━━━━━━━━━━━━━━━━\u001b[0m \u001b[32m233.1/233.1 kB\u001b[0m \u001b[31m6.3 MB/s\u001b[0m eta \u001b[36m0:00:00\u001b[0m\n",
            "\u001b[?25hRequirement already satisfied: matplotlib>=3.5.2 in /usr/local/lib/python3.10/dist-packages (from pypulseq) (3.7.1)\n",
            "Requirement already satisfied: numpy>=1.19.5 in /usr/local/lib/python3.10/dist-packages (from pypulseq) (1.25.2)\n",
            "Requirement already satisfied: scipy>=1.8.1 in /usr/local/lib/python3.10/dist-packages (from pypulseq) (1.11.4)\n",
            "Collecting sigpy>=0.1.26 (from pypulseq)\n",
            "  Downloading sigpy-0.1.26-py3-none-any.whl (108 kB)\n",
            "\u001b[2K     \u001b[90m━━━━━━━━━━━━━━━━━━━━━━━━━━━━━━━━━━━━━━━━\u001b[0m \u001b[32m108.6/108.6 kB\u001b[0m \u001b[31m4.5 MB/s\u001b[0m eta \u001b[36m0:00:00\u001b[0m\n",
            "\u001b[?25hRequirement already satisfied: contourpy>=1.0.1 in /usr/local/lib/python3.10/dist-packages (from matplotlib>=3.5.2->pypulseq) (1.2.1)\n",
            "Requirement already satisfied: cycler>=0.10 in /usr/local/lib/python3.10/dist-packages (from matplotlib>=3.5.2->pypulseq) (0.12.1)\n",
            "Requirement already satisfied: fonttools>=4.22.0 in /usr/local/lib/python3.10/dist-packages (from matplotlib>=3.5.2->pypulseq) (4.53.0)\n",
            "Requirement already satisfied: kiwisolver>=1.0.1 in /usr/local/lib/python3.10/dist-packages (from matplotlib>=3.5.2->pypulseq) (1.4.5)\n",
            "Requirement already satisfied: packaging>=20.0 in /usr/local/lib/python3.10/dist-packages (from matplotlib>=3.5.2->pypulseq) (24.1)\n",
            "Requirement already satisfied: pillow>=6.2.0 in /usr/local/lib/python3.10/dist-packages (from matplotlib>=3.5.2->pypulseq) (9.4.0)\n",
            "Requirement already satisfied: pyparsing>=2.3.1 in /usr/local/lib/python3.10/dist-packages (from matplotlib>=3.5.2->pypulseq) (3.1.2)\n",
            "Requirement already satisfied: python-dateutil>=2.7 in /usr/local/lib/python3.10/dist-packages (from matplotlib>=3.5.2->pypulseq) (2.8.2)\n",
            "Requirement already satisfied: pywavelets in /usr/local/lib/python3.10/dist-packages (from sigpy>=0.1.26->pypulseq) (1.6.0)\n",
            "Requirement already satisfied: numba in /usr/local/lib/python3.10/dist-packages (from sigpy>=0.1.26->pypulseq) (0.58.1)\n",
            "Requirement already satisfied: tqdm in /usr/local/lib/python3.10/dist-packages (from sigpy>=0.1.26->pypulseq) (4.66.4)\n",
            "Requirement already satisfied: six>=1.5 in /usr/local/lib/python3.10/dist-packages (from python-dateutil>=2.7->matplotlib>=3.5.2->pypulseq) (1.16.0)\n",
            "Requirement already satisfied: llvmlite<0.42,>=0.41.0dev0 in /usr/local/lib/python3.10/dist-packages (from numba->sigpy>=0.1.26->pypulseq) (0.41.1)\n",
            "Installing collected packages: coverage, sigpy, pypulseq\n",
            "Successfully installed coverage-7.5.4 pypulseq-1.4.2 sigpy-0.1.26\n"
          ]
        }
      ]
    },
    {
      "cell_type": "markdown",
      "metadata": {
        "id": "Y0p8jkXA-tVM"
      },
      "source": [
        "Run the following section twice to correctly import all modules"
      ]
    },
    {
      "cell_type": "code",
      "metadata": {
        "id": "IKLpSBzmMYu9",
        "colab": {
          "base_uri": "https://localhost:8080/"
        },
        "outputId": "7517d81a-1874-4490-dced-b7d21bbd2b1c"
      },
      "source": [
        "# Import functions\n",
        "import copy\n",
        "from math import pi\n",
        "import math\n",
        "import warnings\n",
        "import numpy as np\n",
        "np.float = float\n",
        "np.complex = complex\n",
        "import pypulseq as pp\n",
        "#from pypulseq.Sequence.sequence import Sequence\n",
        "#from pypulseq.calc_duration import calc_duration\n",
        "#from pypulseq.make_adc import make_adc\n",
        "# from pypulseq.make_delay import make_delay\n",
        "# from pypulseq.make_sinc_pulse import make_sinc_pulse\n",
        "# from pypulseq.make_trap_pulse import make_trapezoid\n",
        "# from pypulseq.opts import Opts\n",
        "# from pypulseq.calc_rf_center import calc_rf_center\n",
        "# from pypulseq.make_extended_trapezoid import make_extended_trapezoid\n",
        "from scipy.io import savemat\n",
        "\n",
        "import matplotlib.pyplot as plt"
      ],
      "execution_count": null,
      "outputs": [
        {
          "output_type": "stream",
          "name": "stderr",
          "text": [
            "/usr/local/lib/python3.10/dist-packages/sigpy/config.py:15: UserWarning: Importing cupy failed. For more details, see the error stack below:\n",
            "\n",
            "================================================================\n",
            "Failed to import CuPy.\n",
            "\n",
            "If you installed CuPy via wheels (cupy-cudaXXX or cupy-rocm-X-X), make sure that the package matches with the version of CUDA or ROCm installed.\n",
            "\n",
            "On Linux, you may need to set LD_LIBRARY_PATH environment variable depending on how you installed CUDA/ROCm.\n",
            "On Windows, try setting CUDA_PATH environment variable.\n",
            "\n",
            "Check the Installation Guide for details:\n",
            "  https://docs.cupy.dev/en/latest/install.html\n",
            "\n",
            "Original error:\n",
            "  ImportError: libcuda.so.1: cannot open shared object file: No such file or directory\n",
            "================================================================\n",
            "\n",
            "  warnings.warn(\n"
          ]
        }
      ]
    },
    {
      "cell_type": "markdown",
      "metadata": {
        "id": "Ienj2x-jOe0S"
      },
      "source": [
        "## **FUNCTION FOR CUSTOM IRSE SEQUENCE**\n",
        "See following sections for usage examples and generate your own sequence.\n"
      ]
    },
    {
      "cell_type": "code",
      "metadata": {
        "id": "-xGPthflm1pX"
      },
      "source": [
        "# =========\n",
        "# INTERLEAVED WITH IR\n",
        "# GT, 07/31/20\n",
        "# =========\n",
        "def irse_interleaved_split_gradient(fov:float, n_slices:int, rf_flip:int, slice_thickness:float,\n",
        "                   Nx:int, Ny:int, TE:float, TR:float, TI:float, enc='xyz', slice_locations=None):\n",
        "    \"\"\"\n",
        "    INPUTS\n",
        "    ------\n",
        "    fov : Field-of-View (m)\n",
        "    n_slices : number of slices\n",
        "    rf_flip : refocusing/inverting flip angle in degrees (just set this to 180)\n",
        "    slice_thickness : in meters\n",
        "    Nx, Ny : matrix size\n",
        "    TE : Echo Time (seconds)\n",
        "    TR : Repetition Time (seconds)\n",
        "    TI : Inversion Time (seconds)\n",
        "    enc : default 'xyz' means readout in x, phase encoding in y and slice in z\n",
        "    slice_locations : array of slice locations from isocenter, in meters\n",
        "    \"\"\"\n",
        "\n",
        "    # =========\n",
        "    # SYSTEM LIMITS\n",
        "    # =========\n",
        "    # Set the hardware limits and initialize sequence object\n",
        "    dG = 250e-6 # Fixed ramp time for all gradients\n",
        "    system = pp.Opts(max_grad=32, grad_unit='mT/m', max_slew=130, slew_unit='T/m/s',\n",
        "                  rf_ringdown_time=100e-6, rf_dead_time=100e-6,\n",
        "                  adc_dead_time=10e-6)\n",
        "    seq = pp.Sequence(system)\n",
        "\n",
        "    # =========\n",
        "    # TIME CALCULATIONS\n",
        "    # =========\n",
        "    readout_time = 6.4e-3 + 2 * system.adc_dead_time\n",
        "    t_ex = 2.5e-3\n",
        "    t_exwd = t_ex + system.rf_ringdown_time + system.rf_dead_time\n",
        "    t_ref = 2e-3\n",
        "    t_refwd = t_ref + system.rf_ringdown_time + system.rf_dead_time\n",
        "    t_sp = 0.5 * (TE - readout_time - t_refwd)\n",
        "    t_spex = 0.5 * (TE - t_exwd - t_refwd)\n",
        "    fsp_r = 1\n",
        "    fsp_s = 0.5\n",
        "\n",
        "    # =========\n",
        "    # ENCODING DIRECTIONS\n",
        "    # ==========\n",
        "    ch_ro = enc[0]\n",
        "    ch_pe = enc[1]\n",
        "    ch_ss = enc[2]\n",
        "\n",
        "\n",
        "    # =========\n",
        "    # RF AND GRADIENT SHAPES - BASED ON RESOLUTION REQUIREMENTS : kmax and Npe\n",
        "    # =========\n",
        "\n",
        "    # RF Phases\n",
        "    rf_ex_phase = np.pi / 2\n",
        "    rf_ref_phase = 0\n",
        "\n",
        "   # Excitation phase (90 deg)\n",
        "    flip_ex = 90 * np.pi / 180\n",
        "    rf_ex, gz, _ = pp.make_sinc_pulse(\n",
        "    flip_angle=flip_ex,\n",
        "    duration=t_ex,\n",
        "    slice_thickness=slice_thickness,\n",
        "    apodization=0.5,\n",
        "    time_bw_product=4,\n",
        "    phase_offset=rf_ex_phase,\n",
        "    system=system,\n",
        "    return_gz=True\n",
        "    )\n",
        "    gs_ex = pp.make_trapezoid(channel=ch_ss, system=system, amplitude=gz.amplitude, flat_time=t_exwd, rise_time=dG)\n",
        "\n",
        "    # Refocusing (same gradient & RF is used for initial inversion)\n",
        "    flip_ref = rf_flip * np.pi / 180\n",
        "    rf_ref, gz, _ = pp.make_sinc_pulse(\n",
        "    flip_angle=flip_ref,\n",
        "    duration=t_ref,\n",
        "    slice_thickness=slice_thickness,\n",
        "    apodization=0.5,\n",
        "    time_bw_product=4,\n",
        "    phase_offset=rf_ref_phase,\n",
        "    use='refocusing',\n",
        "    system=system,\n",
        "    return_gz=True\n",
        "    )\n",
        "    gs_ref = pp.make_trapezoid(channel=ch_ss, system=system, amplitude=gs_ex.amplitude, flat_time=t_refwd, rise_time=dG)\n",
        "\n",
        "    ags_ex = gs_ex.area / 2\n",
        "    gs_spr = pp.make_trapezoid(channel=ch_ss, system=system, area=ags_ex * (1 + fsp_s), duration=t_sp, rise_time=dG)\n",
        "    gs_spex = pp.make_trapezoid(channel=ch_ss, system=system, area=ags_ex * fsp_s, duration=t_spex, rise_time=dG)\n",
        "\n",
        "    delta_k = 1 / fov\n",
        "    k_width = Nx * delta_k\n",
        "\n",
        "    gr_acq = pp.make_trapezoid(channel=ch_ro, system=system, flat_area=k_width, flat_time=readout_time, rise_time=dG)\n",
        "    adc = pp.make_adc(num_samples=Nx, duration=gr_acq.flat_time - 40e-6, delay=20e-6)\n",
        "    gr_spr = pp.make_trapezoid(channel=ch_ro, system=system, area=gr_acq.area * fsp_r, duration=t_sp, rise_time=dG)\n",
        "    gr_spex = pp.make_trapezoid(channel=ch_ro, system=system, area=gr_acq.area * (1 + fsp_r), duration=t_spex, rise_time=dG)\n",
        "\n",
        "    agr_spr = gr_spr.area\n",
        "    agr_preph = gr_acq.area / 2 + agr_spr\n",
        "    gr_preph = pp.make_trapezoid(channel=ch_ro, system=system, area=agr_preph, duration=t_spex, rise_time=dG)\n",
        "\n",
        "    phase_areas = (np.arange(Ny) - Ny / 2) * delta_k\n",
        "\n",
        "    # Split gradients and recombine into blocks\n",
        "    gs1_times = [0, gs_ex.rise_time]\n",
        "    gs1_amp = [0, gs_ex.amplitude]\n",
        "    gs1 = pp.make_extended_trapezoid(channel=ch_ss, times=gs1_times, amplitudes=gs1_amp)\n",
        "\n",
        "    gs2_times = [0, gs_ex.flat_time]\n",
        "    gs2_amp = [gs_ex.amplitude, gs_ex.amplitude]\n",
        "    gs2 = pp.make_extended_trapezoid(channel=ch_ss, times=gs2_times, amplitudes=gs2_amp)\n",
        "\n",
        "    gs3_times = [0, gs_spex.rise_time, gs_spex.rise_time + gs_spex.flat_time,\n",
        "                gs_spex.rise_time + gs_spex.flat_time + gs_spex.fall_time]\n",
        "    gs3_amp = [gs_ex.amplitude, gs_spex.amplitude, gs_spex.amplitude, gs_ref.amplitude]\n",
        "    gs3 = pp.make_extended_trapezoid(channel=ch_ss, times=gs3_times, amplitudes=gs3_amp)\n",
        "\n",
        "    gs4_times = [0, gs_ref.flat_time]\n",
        "    gs4_amp = [gs_ref.amplitude, gs_ref.amplitude]\n",
        "    gs4 = pp.make_extended_trapezoid(channel=ch_ss, times=gs4_times, amplitudes=gs4_amp)\n",
        "\n",
        "    gs5_times = [0, gs_spr.rise_time, gs_spr.rise_time + gs_spr.flat_time,\n",
        "                gs_spr.rise_time + gs_spr.flat_time + gs_spr.fall_time]\n",
        "    gs5_amp = [gs_ref.amplitude, gs_spr.amplitude, gs_spr.amplitude, 0]\n",
        "    gs5 = pp.make_extended_trapezoid(channel=ch_ss, times=gs5_times, amplitudes=gs5_amp)\n",
        "\n",
        "    gs7_times = [0, gs_spr.rise_time, gs_spr.rise_time + gs_spr.flat_time,\n",
        "                gs_spr.rise_time + gs_spr.flat_time + gs_spr.fall_time]\n",
        "    gs7_amp = [0, gs_spr.amplitude, gs_spr.amplitude, gs_ref.amplitude]\n",
        "    gs7 = pp.make_extended_trapezoid(channel=ch_ss, times=gs7_times, amplitudes=gs7_amp)\n",
        "\n",
        "    gr3 = gr_preph\n",
        "\n",
        "    gr5_times = [0, gr_spr.rise_time, gr_spr.rise_time + gr_spr.flat_time,\n",
        "                gr_spr.rise_time + gr_spr.flat_time + gr_spr.fall_time]\n",
        "    gr5_amp = [0, gr_spr.amplitude, gr_spr.amplitude, gr_acq.amplitude]\n",
        "    gr5 = pp.make_extended_trapezoid(channel=ch_ro, times=gr5_times, amplitudes=gr5_amp)\n",
        "\n",
        "    gr6_times = [0, readout_time]\n",
        "    gr6_amp = [gr_acq.amplitude, gr_acq.amplitude]\n",
        "    gr6 = pp.make_extended_trapezoid(channel=ch_ro, times=gr6_times, amplitudes=gr6_amp)\n",
        "\n",
        "    gr7_times = [0, gr_spr.rise_time, gr_spr.rise_time + gr_spr.flat_time,\n",
        "                gr_spr.rise_time + gr_spr.flat_time + gr_spr.fall_time]\n",
        "    gr7_amp = [gr_acq.amplitude, gr_spr.amplitude, gr_spr.amplitude, 0]\n",
        "    gr7 = pp.make_extended_trapezoid(channel=ch_ro, times=gr7_times, amplitudes=gr7_amp)\n",
        "\n",
        "    t_ex = gs1.tt[-1] + gs2.tt[-1] + gs3.tt[-1]\n",
        "    t_ref = gs4.tt[-1] + gs5.tt[-1] + gs7.tt[-1] + readout_time\n",
        "    t_end = gs4.tt[-1] + gs5.tt[-1]\n",
        "\n",
        "\n",
        "\n",
        "\n",
        "    # =========\n",
        "    # NUMBER OF SLICES PER TR - ADAPT TO HIGHER TR IF IT DOES NOT FIT\n",
        "    # =========\n",
        "\n",
        "\n",
        "    # 1. Without spoilers on each side\n",
        "    TE_prime = 0.5* pp.calc_duration(gs_ref) + TI + TE + 0.5 * readout_time + np.max([pp.calc_duration(gs7), pp.calc_duration(gr7)]) + \\\n",
        "               pp.calc_duration(gs4) + pp.calc_duration(gs5)\n",
        "\n",
        "    # 2. With spoilers on each side\n",
        "    #TE_prime = calc_duration(gs_inv_1) + 0.5 * calc_duration(gs_inv_2) + TI + TE + \\\n",
        "    #           0.5 * readout_time + np.max([calc_duration(gs7), calc_duration(gr7)]) + \\\n",
        "    #           calc_duration(gs4) + calc_duration(gs5)\n",
        "\n",
        "\n",
        "\n",
        "    ns_per_TR = np.floor(TR / TE_prime)\n",
        "    print('Number of slices that can be accommodated =' + str(ns_per_TR))\n",
        "\n",
        "    if (ns_per_TR < n_slices):\n",
        "      warnings.warn(f'TR too short, adapted to include all slices to: {n_slices * TE_prime + 50e-6} s')\n",
        "      TR = round(n_slices * TE_prime + 50e-6, ndigits=5)\n",
        "      print('New TR = ' + str(TR))\n",
        "      ns_per_TR = np.floor(TR / TE_prime)\n",
        "\n",
        "    if (n_slices < ns_per_TR):\n",
        "        ns_per_TR = n_slices\n",
        "\n",
        "    # randperm so that adjacent slices do not get excited one after the other - TODO : shuffling might be messy for visualization if not indexed\n",
        "    sl_order = np.random.permutation(n_slices)\n",
        "\n",
        "    print('Number of slices acquired per TR = ' + str(ns_per_TR))\n",
        "\n",
        "    # Delays\n",
        "    TI_fill = TI - (0.5*pp.calc_duration(gs_ref) + pp.calc_duration(gs1) + 0.5*pp.calc_duration(gs2))\n",
        "    delay_TI = pp.make_delay(TI_fill)\n",
        "    TR_fill = TR - ns_per_TR * TE_prime\n",
        "    delay_TR = pp.make_delay(TR_fill)\n",
        "\n",
        "\n",
        "    if slice_locations is None:\n",
        "      slice_locations = slice_thickness * (np.arange(n_slices) - (n_slices-1)/2)\n",
        "\n",
        "\n",
        "    for k_ex in range(Ny):\n",
        "        phase_area = phase_areas[k_ex]\n",
        "        gp_pre = pp.make_trapezoid(channel=ch_pe, system=system, area=phase_area, duration=t_sp, rise_time=dG)\n",
        "        gp_rew = pp.make_trapezoid(channel=ch_pe, system=system, area=-phase_area, duration=t_sp, rise_time=dG)\n",
        "        s_in_TR = 0\n",
        "\n",
        "        for s in range(len(sl_order)):\n",
        "\n",
        "            #rf_ex.freq_offset = gs_ex.amplitude * slice_thickness * (sl_order[s] - (n_slices - 1) / 2)\n",
        "            #rf_ref.freq_offset = gs_ref.amplitude * slice_thickness * (sl_order[s] - (n_slices - 1) / 2)\n",
        "\n",
        "            rf_ex.freq_offset = gs_ex.amplitude * slice_locations[sl_order[s]]\n",
        "            rf_ref.freq_offset = gs_ref.amplitude * slice_locations[sl_order[s]]\n",
        "\n",
        "            rf_ex.phase_offset = rf_ex_phase - 2 * np.pi * rf_ex.freq_offset * pp.calc_rf_center(rf_ex)[0]\n",
        "            rf_ref.phase_offset = rf_ref_phase - 2 * np.pi * rf_ref.freq_offset * pp.calc_rf_center(rf_ref)[0]\n",
        "\n",
        "            # Inversion using refocusing pulse\n",
        "            seq.add_block(gs_ref, rf_ref)\n",
        "            seq.add_block(delay_TI)\n",
        "\n",
        "            # SE portion\n",
        "            seq.add_block(gs1)\n",
        "            seq.add_block(gs2, rf_ex)\n",
        "            seq.add_block(gs3, gr3)\n",
        "\n",
        "            seq.add_block(gs4, rf_ref)\n",
        "\n",
        "            seq.add_block(gs5, gr5, gp_pre)\n",
        "            seq.add_block(gr6, adc)\n",
        "\n",
        "            seq.add_block(gs7, gr7, gp_rew)\n",
        "\n",
        "            seq.add_block(gs4)\n",
        "            seq.add_block(gs5)\n",
        "            s_in_TR += 1\n",
        "            if (s_in_TR == ns_per_TR):\n",
        "                seq.add_block(delay_TR)\n",
        "                s_in_TR = 0\n",
        "\n",
        "    return seq, sl_order"
      ],
      "execution_count": null,
      "outputs": []
    },
    {
      "cell_type": "markdown",
      "metadata": {
        "id": "kE0Qn-ro8PKR"
      },
      "source": [
        "## RUN FUNCTION TO MAKE SEQUENCE\n",
        "Run one of the following three subsections to generate the the sequences used for the test experiments."
      ]
    },
    {
      "cell_type": "markdown",
      "metadata": {
        "id": "81F6k2sU9Lte"
      },
      "source": [
        "### Simulation\n"
      ]
    },
    {
      "cell_type": "code",
      "metadata": {
        "id": "lsEn163NuPLJ",
        "colab": {
          "base_uri": "https://localhost:8080/"
        },
        "outputId": "32992e5a-6415-4a45-8a94-9be995439980"
      },
      "source": [
        "# For simulation\n",
        "n_slices = 1\n",
        "Nx = 32\n",
        "Ny = 32\n",
        "fov = 250 * 1e-3\n",
        "slice_thickness = 5 * 1e-3\n",
        "rf_flip = 180 # For some reason this value is used for refocusing pulse\n",
        "              # And excitation is fixed to 90 deg\n",
        "TE = 12 * 1e-3\n",
        "TR = 2000 * 1e-3\n",
        "TI = 100 * 1e-3\n",
        "\n",
        "enc='xyz' # Axial slices\n",
        "seq, sl_order = irse_interleaved_split_gradient(n_slices=n_slices, Nx=Nx, Ny=Ny, fov=fov, slice_thickness=slice_thickness,\n",
        "                                          rf_flip=rf_flip, TR=TR, TE=TE, TI=TI, enc=enc, slice_locations=[0])\n"
      ],
      "execution_count": null,
      "outputs": [
        {
          "output_type": "stream",
          "name": "stdout",
          "text": [
            "Number of slices that can be accommodated =16.0\n",
            "Number of slices acquired per TR = 1\n"
          ]
        }
      ]
    },
    {
      "cell_type": "markdown",
      "metadata": {
        "id": "noDLaobc8T7-"
      },
      "source": [
        "### Qualitative (ACR slices)"
      ]
    },
    {
      "cell_type": "code",
      "metadata": {
        "id": "eziw-HpJeTkJ",
        "colab": {
          "base_uri": "https://localhost:8080/"
        },
        "outputId": "fc8afb12-30b9-446d-8085-00097c8d3d52"
      },
      "source": [
        "# Generate seqs for qualitative multislice scan (ACR phantom)\n",
        "from scipy.io import savemat\n",
        "Nx = 256\n",
        "Ny = 256\n",
        "fov = 250 * 1e-3\n",
        "thk = 5 * 1e-3\n",
        "gap = 5 * 1e-3\n",
        "displacement = 5e-3 # 6th slice location after positioning \"nose\" mark at isocenter\n",
        "n_slices = 13 # 11 before; trying to get the extras\n",
        "L = (n_slices-1)*(thk+gap)\n",
        "acr_sl_locs = displacement + np.arange(-L/2, L/2 + thk + gap, thk + gap)\n",
        "print(acr_sl_locs)\n",
        "\n",
        "\n",
        "rf_flip = 180 # For some reason this value is used for refocusing pulse\n",
        "              # And excitation is fixed to 90 deg\n",
        "TE = 12 * 1e-3\n",
        "TR = 2000 * 1e-3\n",
        "TI = 100 * 1e-3 # change this!\n",
        "\n",
        "enc='xyz'\n",
        "seq, sl_order = irse_interleaved_split_gradient(n_slices=n_slices, Nx=Nx, Ny=Ny, fov=fov, slice_thickness=thk,\n",
        "                                          rf_flip=rf_flip, TR=TR, TE=TE, TI=TI, enc=enc, slice_locations=acr_sl_locs)\n",
        "savemat('irse_sl_order.mat',{'sl_order': sl_order})\n",
        "\n",
        "# Download slice order\n",
        "from google.colab import files\n",
        "files.download('irse_sl_order.mat')"
      ],
      "execution_count": null,
      "outputs": [
        {
          "output_type": "stream",
          "name": "stdout",
          "text": [
            "[-0.055 -0.045 -0.035 -0.025 -0.015 -0.005  0.005  0.015  0.025  0.035\n",
            "  0.045  0.055  0.065]\n",
            "Number of slices that can be accommodated =16.0\n",
            "Number of slices acquired per TR = 13\n"
          ]
        },
        {
          "output_type": "display_data",
          "data": {
            "text/plain": [
              "<IPython.core.display.Javascript object>"
            ],
            "application/javascript": [
              "\n",
              "    async function download(id, filename, size) {\n",
              "      if (!google.colab.kernel.accessAllowed) {\n",
              "        return;\n",
              "      }\n",
              "      const div = document.createElement('div');\n",
              "      const label = document.createElement('label');\n",
              "      label.textContent = `Downloading \"${filename}\": `;\n",
              "      div.appendChild(label);\n",
              "      const progress = document.createElement('progress');\n",
              "      progress.max = size;\n",
              "      div.appendChild(progress);\n",
              "      document.body.appendChild(div);\n",
              "\n",
              "      const buffers = [];\n",
              "      let downloaded = 0;\n",
              "\n",
              "      const channel = await google.colab.kernel.comms.open(id);\n",
              "      // Send a message to notify the kernel that we're ready.\n",
              "      channel.send({})\n",
              "\n",
              "      for await (const message of channel.messages) {\n",
              "        // Send a message to notify the kernel that we're ready.\n",
              "        channel.send({})\n",
              "        if (message.buffers) {\n",
              "          for (const buffer of message.buffers) {\n",
              "            buffers.push(buffer);\n",
              "            downloaded += buffer.byteLength;\n",
              "            progress.value = downloaded;\n",
              "          }\n",
              "        }\n",
              "      }\n",
              "      const blob = new Blob(buffers, {type: 'application/binary'});\n",
              "      const a = document.createElement('a');\n",
              "      a.href = window.URL.createObjectURL(blob);\n",
              "      a.download = filename;\n",
              "      div.appendChild(a);\n",
              "      a.click();\n",
              "      div.remove();\n",
              "    }\n",
              "  "
            ]
          },
          "metadata": {}
        },
        {
          "output_type": "display_data",
          "data": {
            "text/plain": [
              "<IPython.core.display.Javascript object>"
            ],
            "application/javascript": [
              "download(\"download_6dd495d6-bfb7-497f-b2fd-80ff80d9ef7c\", \"irse_sl_order.mat\", 296)"
            ]
          },
          "metadata": {}
        }
      ]
    },
    {
      "cell_type": "markdown",
      "metadata": {
        "id": "AihxPWQN3zrw"
      },
      "source": [
        "### T1 Mapping (NIST T1 array)"
      ]
    },
    {
      "cell_type": "code",
      "metadata": {
        "id": "jw-NygbuIdJP",
        "colab": {
          "base_uri": "https://localhost:8080/",
          "height": 414
        },
        "outputId": "3a187728-af9c-4003-863c-01fff6b586ef"
      },
      "source": [
        "# Generate seqs for T1 mapping\n",
        "# Set default values\n",
        "n_slices = 1\n",
        "Nx = 128\n",
        "Ny = 128\n",
        "fov = 250 * 1e-3\n",
        "slice_thickness = 6 * 1e-3\n",
        "rf_flip = 180 # For some reason this value is used for refocusing pulse\n",
        "              # And excitation is fixed to 90 deg\n",
        "TE = 10 * 1e-3\n",
        "TR = 4500 * 1e-3\n",
        "\n",
        "# Version without flanking spoilers on inversion\n",
        "TI_array = 1e-3 * np.array([50, 75, 100, 125, 150, 250, 1000, 1500, 2000, 3000])\n",
        "# enc='yzx' # x-dir / sagittal slice (the order is readout, phase, slice)\n",
        "enc='xyz'\n",
        "for TI in TI_array:\n",
        "  seq, __ = irse_interleaved_split_gradient(n_slices=n_slices, Nx=Nx, Ny=Ny, fov=fov, slice_thickness=slice_thickness,\n",
        "                                            rf_flip=rf_flip, TR=TR, TE=TE, TI=TI, enc=enc, slice_locations=[0])\n",
        "  save_name = f'irse_pypulseq_colab_{n_slices}slices_FOV{fov*1e3}_N{Nx}_TR{TR*1e3}_TE{TE*1e3}_TI{TI*1e3}_thk{slice_thickness*1e3}mm_enc_{enc}.seq'\n",
        "  seq.set_definition('FOV', [fov, fov, slice_thickness]);\n",
        "  seq.set_definition('SlicePositions', 0);\n",
        "  seq.set_definition('SliceThickness', slice_thickness);\n",
        "  seq.set_definition('SliceGap', 0);\n",
        "  seq.write(save_name)  # Generate .seq file\n",
        "  from google.colab import files\n",
        "  files.download(save_name)  # Download locally"
      ],
      "execution_count": null,
      "outputs": [
        {
          "output_type": "stream",
          "name": "stdout",
          "text": [
            "Number of slices that can be accommodated =66.0\n",
            "Number of slices acquired per TR = 1\n"
          ]
        },
        {
          "output_type": "display_data",
          "data": {
            "text/plain": [
              "<IPython.core.display.Javascript object>"
            ],
            "application/javascript": [
              "\n",
              "    async function download(id, filename, size) {\n",
              "      if (!google.colab.kernel.accessAllowed) {\n",
              "        return;\n",
              "      }\n",
              "      const div = document.createElement('div');\n",
              "      const label = document.createElement('label');\n",
              "      label.textContent = `Downloading \"${filename}\": `;\n",
              "      div.appendChild(label);\n",
              "      const progress = document.createElement('progress');\n",
              "      progress.max = size;\n",
              "      div.appendChild(progress);\n",
              "      document.body.appendChild(div);\n",
              "\n",
              "      const buffers = [];\n",
              "      let downloaded = 0;\n",
              "\n",
              "      const channel = await google.colab.kernel.comms.open(id);\n",
              "      // Send a message to notify the kernel that we're ready.\n",
              "      channel.send({})\n",
              "\n",
              "      for await (const message of channel.messages) {\n",
              "        // Send a message to notify the kernel that we're ready.\n",
              "        channel.send({})\n",
              "        if (message.buffers) {\n",
              "          for (const buffer of message.buffers) {\n",
              "            buffers.push(buffer);\n",
              "            downloaded += buffer.byteLength;\n",
              "            progress.value = downloaded;\n",
              "          }\n",
              "        }\n",
              "      }\n",
              "      const blob = new Blob(buffers, {type: 'application/binary'});\n",
              "      const a = document.createElement('a');\n",
              "      a.href = window.URL.createObjectURL(blob);\n",
              "      a.download = filename;\n",
              "      div.appendChild(a);\n",
              "      a.click();\n",
              "      div.remove();\n",
              "    }\n",
              "  "
            ]
          },
          "metadata": {}
        },
        {
          "output_type": "display_data",
          "data": {
            "text/plain": [
              "<IPython.core.display.Javascript object>"
            ],
            "application/javascript": [
              "download(\"download_ef321e81-9747-4ecd-b3c1-373606b7f1be\", \"irse_pypulseq_colab_1slices_FOV250.0_N128_TR4500.0_TE10.0_TI50.0_thk6.0mm_enc_xyz.seq\", 112035)"
            ]
          },
          "metadata": {}
        },
        {
          "output_type": "stream",
          "name": "stdout",
          "text": [
            "Number of slices that can be accommodated =48.0\n",
            "Number of slices acquired per TR = 1\n"
          ]
        },
        {
          "output_type": "display_data",
          "data": {
            "text/plain": [
              "<IPython.core.display.Javascript object>"
            ],
            "application/javascript": [
              "\n",
              "    async function download(id, filename, size) {\n",
              "      if (!google.colab.kernel.accessAllowed) {\n",
              "        return;\n",
              "      }\n",
              "      const div = document.createElement('div');\n",
              "      const label = document.createElement('label');\n",
              "      label.textContent = `Downloading \"${filename}\": `;\n",
              "      div.appendChild(label);\n",
              "      const progress = document.createElement('progress');\n",
              "      progress.max = size;\n",
              "      div.appendChild(progress);\n",
              "      document.body.appendChild(div);\n",
              "\n",
              "      const buffers = [];\n",
              "      let downloaded = 0;\n",
              "\n",
              "      const channel = await google.colab.kernel.comms.open(id);\n",
              "      // Send a message to notify the kernel that we're ready.\n",
              "      channel.send({})\n",
              "\n",
              "      for await (const message of channel.messages) {\n",
              "        // Send a message to notify the kernel that we're ready.\n",
              "        channel.send({})\n",
              "        if (message.buffers) {\n",
              "          for (const buffer of message.buffers) {\n",
              "            buffers.push(buffer);\n",
              "            downloaded += buffer.byteLength;\n",
              "            progress.value = downloaded;\n",
              "          }\n",
              "        }\n",
              "      }\n",
              "      const blob = new Blob(buffers, {type: 'application/binary'});\n",
              "      const a = document.createElement('a');\n",
              "      a.href = window.URL.createObjectURL(blob);\n",
              "      a.download = filename;\n",
              "      div.appendChild(a);\n",
              "      a.click();\n",
              "      div.remove();\n",
              "    }\n",
              "  "
            ]
          },
          "metadata": {}
        },
        {
          "output_type": "display_data",
          "data": {
            "text/plain": [
              "<IPython.core.display.Javascript object>"
            ],
            "application/javascript": [
              "download(\"download_912fc4ef-1cb7-4d5d-a1f1-257aecc82d42\", \"irse_pypulseq_colab_1slices_FOV250.0_N128_TR4500.0_TE10.0_TI75.0_thk6.0mm_enc_xyz.seq\", 112035)"
            ]
          },
          "metadata": {}
        },
        {
          "output_type": "stream",
          "name": "stdout",
          "text": [
            "Number of slices that can be accommodated =38.0\n",
            "Number of slices acquired per TR = 1\n"
          ]
        },
        {
          "output_type": "display_data",
          "data": {
            "text/plain": [
              "<IPython.core.display.Javascript object>"
            ],
            "application/javascript": [
              "\n",
              "    async function download(id, filename, size) {\n",
              "      if (!google.colab.kernel.accessAllowed) {\n",
              "        return;\n",
              "      }\n",
              "      const div = document.createElement('div');\n",
              "      const label = document.createElement('label');\n",
              "      label.textContent = `Downloading \"${filename}\": `;\n",
              "      div.appendChild(label);\n",
              "      const progress = document.createElement('progress');\n",
              "      progress.max = size;\n",
              "      div.appendChild(progress);\n",
              "      document.body.appendChild(div);\n",
              "\n",
              "      const buffers = [];\n",
              "      let downloaded = 0;\n",
              "\n",
              "      const channel = await google.colab.kernel.comms.open(id);\n",
              "      // Send a message to notify the kernel that we're ready.\n",
              "      channel.send({})\n",
              "\n",
              "      for await (const message of channel.messages) {\n",
              "        // Send a message to notify the kernel that we're ready.\n",
              "        channel.send({})\n",
              "        if (message.buffers) {\n",
              "          for (const buffer of message.buffers) {\n",
              "            buffers.push(buffer);\n",
              "            downloaded += buffer.byteLength;\n",
              "            progress.value = downloaded;\n",
              "          }\n",
              "        }\n",
              "      }\n",
              "      const blob = new Blob(buffers, {type: 'application/binary'});\n",
              "      const a = document.createElement('a');\n",
              "      a.href = window.URL.createObjectURL(blob);\n",
              "      a.download = filename;\n",
              "      div.appendChild(a);\n",
              "      a.click();\n",
              "      div.remove();\n",
              "    }\n",
              "  "
            ]
          },
          "metadata": {}
        },
        {
          "output_type": "display_data",
          "data": {
            "text/plain": [
              "<IPython.core.display.Javascript object>"
            ],
            "application/javascript": [
              "download(\"download_2241a65a-3333-4ce9-8c19-ad54ba37ba28\", \"irse_pypulseq_colab_1slices_FOV250.0_N128_TR4500.0_TE10.0_TI100.0_thk6.0mm_enc_xyz.seq\", 112035)"
            ]
          },
          "metadata": {}
        },
        {
          "output_type": "stream",
          "name": "stdout",
          "text": [
            "Number of slices that can be accommodated =31.0\n",
            "Number of slices acquired per TR = 1\n"
          ]
        },
        {
          "output_type": "display_data",
          "data": {
            "text/plain": [
              "<IPython.core.display.Javascript object>"
            ],
            "application/javascript": [
              "\n",
              "    async function download(id, filename, size) {\n",
              "      if (!google.colab.kernel.accessAllowed) {\n",
              "        return;\n",
              "      }\n",
              "      const div = document.createElement('div');\n",
              "      const label = document.createElement('label');\n",
              "      label.textContent = `Downloading \"${filename}\": `;\n",
              "      div.appendChild(label);\n",
              "      const progress = document.createElement('progress');\n",
              "      progress.max = size;\n",
              "      div.appendChild(progress);\n",
              "      document.body.appendChild(div);\n",
              "\n",
              "      const buffers = [];\n",
              "      let downloaded = 0;\n",
              "\n",
              "      const channel = await google.colab.kernel.comms.open(id);\n",
              "      // Send a message to notify the kernel that we're ready.\n",
              "      channel.send({})\n",
              "\n",
              "      for await (const message of channel.messages) {\n",
              "        // Send a message to notify the kernel that we're ready.\n",
              "        channel.send({})\n",
              "        if (message.buffers) {\n",
              "          for (const buffer of message.buffers) {\n",
              "            buffers.push(buffer);\n",
              "            downloaded += buffer.byteLength;\n",
              "            progress.value = downloaded;\n",
              "          }\n",
              "        }\n",
              "      }\n",
              "      const blob = new Blob(buffers, {type: 'application/binary'});\n",
              "      const a = document.createElement('a');\n",
              "      a.href = window.URL.createObjectURL(blob);\n",
              "      a.download = filename;\n",
              "      div.appendChild(a);\n",
              "      a.click();\n",
              "      div.remove();\n",
              "    }\n",
              "  "
            ]
          },
          "metadata": {}
        },
        {
          "output_type": "display_data",
          "data": {
            "text/plain": [
              "<IPython.core.display.Javascript object>"
            ],
            "application/javascript": [
              "download(\"download_e5b95b31-7857-44a3-b843-227d14364fa6\", \"irse_pypulseq_colab_1slices_FOV250.0_N128_TR4500.0_TE10.0_TI125.0_thk6.0mm_enc_xyz.seq\", 112163)"
            ]
          },
          "metadata": {}
        },
        {
          "output_type": "stream",
          "name": "stdout",
          "text": [
            "Number of slices that can be accommodated =26.0\n",
            "Number of slices acquired per TR = 1\n"
          ]
        },
        {
          "output_type": "display_data",
          "data": {
            "text/plain": [
              "<IPython.core.display.Javascript object>"
            ],
            "application/javascript": [
              "\n",
              "    async function download(id, filename, size) {\n",
              "      if (!google.colab.kernel.accessAllowed) {\n",
              "        return;\n",
              "      }\n",
              "      const div = document.createElement('div');\n",
              "      const label = document.createElement('label');\n",
              "      label.textContent = `Downloading \"${filename}\": `;\n",
              "      div.appendChild(label);\n",
              "      const progress = document.createElement('progress');\n",
              "      progress.max = size;\n",
              "      div.appendChild(progress);\n",
              "      document.body.appendChild(div);\n",
              "\n",
              "      const buffers = [];\n",
              "      let downloaded = 0;\n",
              "\n",
              "      const channel = await google.colab.kernel.comms.open(id);\n",
              "      // Send a message to notify the kernel that we're ready.\n",
              "      channel.send({})\n",
              "\n",
              "      for await (const message of channel.messages) {\n",
              "        // Send a message to notify the kernel that we're ready.\n",
              "        channel.send({})\n",
              "        if (message.buffers) {\n",
              "          for (const buffer of message.buffers) {\n",
              "            buffers.push(buffer);\n",
              "            downloaded += buffer.byteLength;\n",
              "            progress.value = downloaded;\n",
              "          }\n",
              "        }\n",
              "      }\n",
              "      const blob = new Blob(buffers, {type: 'application/binary'});\n",
              "      const a = document.createElement('a');\n",
              "      a.href = window.URL.createObjectURL(blob);\n",
              "      a.download = filename;\n",
              "      div.appendChild(a);\n",
              "      a.click();\n",
              "      div.remove();\n",
              "    }\n",
              "  "
            ]
          },
          "metadata": {}
        },
        {
          "output_type": "display_data",
          "data": {
            "text/plain": [
              "<IPython.core.display.Javascript object>"
            ],
            "application/javascript": [
              "download(\"download_7c2babf8-5f3d-4e5d-a55c-f4fd8b2a7c18\", \"irse_pypulseq_colab_1slices_FOV250.0_N128_TR4500.0_TE10.0_TI150.0_thk6.0mm_enc_xyz.seq\", 112163)"
            ]
          },
          "metadata": {}
        },
        {
          "output_type": "stream",
          "name": "stdout",
          "text": [
            "Number of slices that can be accommodated =16.0\n",
            "Number of slices acquired per TR = 1\n"
          ]
        },
        {
          "output_type": "display_data",
          "data": {
            "text/plain": [
              "<IPython.core.display.Javascript object>"
            ],
            "application/javascript": [
              "\n",
              "    async function download(id, filename, size) {\n",
              "      if (!google.colab.kernel.accessAllowed) {\n",
              "        return;\n",
              "      }\n",
              "      const div = document.createElement('div');\n",
              "      const label = document.createElement('label');\n",
              "      label.textContent = `Downloading \"${filename}\": `;\n",
              "      div.appendChild(label);\n",
              "      const progress = document.createElement('progress');\n",
              "      progress.max = size;\n",
              "      div.appendChild(progress);\n",
              "      document.body.appendChild(div);\n",
              "\n",
              "      const buffers = [];\n",
              "      let downloaded = 0;\n",
              "\n",
              "      const channel = await google.colab.kernel.comms.open(id);\n",
              "      // Send a message to notify the kernel that we're ready.\n",
              "      channel.send({})\n",
              "\n",
              "      for await (const message of channel.messages) {\n",
              "        // Send a message to notify the kernel that we're ready.\n",
              "        channel.send({})\n",
              "        if (message.buffers) {\n",
              "          for (const buffer of message.buffers) {\n",
              "            buffers.push(buffer);\n",
              "            downloaded += buffer.byteLength;\n",
              "            progress.value = downloaded;\n",
              "          }\n",
              "        }\n",
              "      }\n",
              "      const blob = new Blob(buffers, {type: 'application/binary'});\n",
              "      const a = document.createElement('a');\n",
              "      a.href = window.URL.createObjectURL(blob);\n",
              "      a.download = filename;\n",
              "      div.appendChild(a);\n",
              "      a.click();\n",
              "      div.remove();\n",
              "    }\n",
              "  "
            ]
          },
          "metadata": {}
        },
        {
          "output_type": "display_data",
          "data": {
            "text/plain": [
              "<IPython.core.display.Javascript object>"
            ],
            "application/javascript": [
              "download(\"download_21ccacac-ecd3-430b-8f1f-f8a2d6a49e2f\", \"irse_pypulseq_colab_1slices_FOV250.0_N128_TR4500.0_TE10.0_TI250.0_thk6.0mm_enc_xyz.seq\", 112163)"
            ]
          },
          "metadata": {}
        },
        {
          "output_type": "stream",
          "name": "stdout",
          "text": [
            "Number of slices that can be accommodated =4.0\n",
            "Number of slices acquired per TR = 1\n"
          ]
        },
        {
          "output_type": "display_data",
          "data": {
            "text/plain": [
              "<IPython.core.display.Javascript object>"
            ],
            "application/javascript": [
              "\n",
              "    async function download(id, filename, size) {\n",
              "      if (!google.colab.kernel.accessAllowed) {\n",
              "        return;\n",
              "      }\n",
              "      const div = document.createElement('div');\n",
              "      const label = document.createElement('label');\n",
              "      label.textContent = `Downloading \"${filename}\": `;\n",
              "      div.appendChild(label);\n",
              "      const progress = document.createElement('progress');\n",
              "      progress.max = size;\n",
              "      div.appendChild(progress);\n",
              "      document.body.appendChild(div);\n",
              "\n",
              "      const buffers = [];\n",
              "      let downloaded = 0;\n",
              "\n",
              "      const channel = await google.colab.kernel.comms.open(id);\n",
              "      // Send a message to notify the kernel that we're ready.\n",
              "      channel.send({})\n",
              "\n",
              "      for await (const message of channel.messages) {\n",
              "        // Send a message to notify the kernel that we're ready.\n",
              "        channel.send({})\n",
              "        if (message.buffers) {\n",
              "          for (const buffer of message.buffers) {\n",
              "            buffers.push(buffer);\n",
              "            downloaded += buffer.byteLength;\n",
              "            progress.value = downloaded;\n",
              "          }\n",
              "        }\n",
              "      }\n",
              "      const blob = new Blob(buffers, {type: 'application/binary'});\n",
              "      const a = document.createElement('a');\n",
              "      a.href = window.URL.createObjectURL(blob);\n",
              "      a.download = filename;\n",
              "      div.appendChild(a);\n",
              "      a.click();\n",
              "      div.remove();\n",
              "    }\n",
              "  "
            ]
          },
          "metadata": {}
        },
        {
          "output_type": "display_data",
          "data": {
            "text/plain": [
              "<IPython.core.display.Javascript object>"
            ],
            "application/javascript": [
              "download(\"download_9ee4b363-f906-4692-a4bd-e5b66edca3fb\", \"irse_pypulseq_colab_1slices_FOV250.0_N128_TR4500.0_TE10.0_TI1000.0_thk6.0mm_enc_xyz.seq\", 112163)"
            ]
          },
          "metadata": {}
        },
        {
          "output_type": "stream",
          "name": "stdout",
          "text": [
            "Number of slices that can be accommodated =2.0\n",
            "Number of slices acquired per TR = 1\n"
          ]
        },
        {
          "output_type": "display_data",
          "data": {
            "text/plain": [
              "<IPython.core.display.Javascript object>"
            ],
            "application/javascript": [
              "\n",
              "    async function download(id, filename, size) {\n",
              "      if (!google.colab.kernel.accessAllowed) {\n",
              "        return;\n",
              "      }\n",
              "      const div = document.createElement('div');\n",
              "      const label = document.createElement('label');\n",
              "      label.textContent = `Downloading \"${filename}\": `;\n",
              "      div.appendChild(label);\n",
              "      const progress = document.createElement('progress');\n",
              "      progress.max = size;\n",
              "      div.appendChild(progress);\n",
              "      document.body.appendChild(div);\n",
              "\n",
              "      const buffers = [];\n",
              "      let downloaded = 0;\n",
              "\n",
              "      const channel = await google.colab.kernel.comms.open(id);\n",
              "      // Send a message to notify the kernel that we're ready.\n",
              "      channel.send({})\n",
              "\n",
              "      for await (const message of channel.messages) {\n",
              "        // Send a message to notify the kernel that we're ready.\n",
              "        channel.send({})\n",
              "        if (message.buffers) {\n",
              "          for (const buffer of message.buffers) {\n",
              "            buffers.push(buffer);\n",
              "            downloaded += buffer.byteLength;\n",
              "            progress.value = downloaded;\n",
              "          }\n",
              "        }\n",
              "      }\n",
              "      const blob = new Blob(buffers, {type: 'application/binary'});\n",
              "      const a = document.createElement('a');\n",
              "      a.href = window.URL.createObjectURL(blob);\n",
              "      a.download = filename;\n",
              "      div.appendChild(a);\n",
              "      a.click();\n",
              "      div.remove();\n",
              "    }\n",
              "  "
            ]
          },
          "metadata": {}
        },
        {
          "output_type": "display_data",
          "data": {
            "text/plain": [
              "<IPython.core.display.Javascript object>"
            ],
            "application/javascript": [
              "download(\"download_7402ee32-6e24-47da-bbd6-b5b774cdfc43\", \"irse_pypulseq_colab_1slices_FOV250.0_N128_TR4500.0_TE10.0_TI1500.0_thk6.0mm_enc_xyz.seq\", 112291)"
            ]
          },
          "metadata": {}
        },
        {
          "output_type": "stream",
          "name": "stdout",
          "text": [
            "Number of slices that can be accommodated =2.0\n",
            "Number of slices acquired per TR = 1\n"
          ]
        },
        {
          "output_type": "display_data",
          "data": {
            "text/plain": [
              "<IPython.core.display.Javascript object>"
            ],
            "application/javascript": [
              "\n",
              "    async function download(id, filename, size) {\n",
              "      if (!google.colab.kernel.accessAllowed) {\n",
              "        return;\n",
              "      }\n",
              "      const div = document.createElement('div');\n",
              "      const label = document.createElement('label');\n",
              "      label.textContent = `Downloading \"${filename}\": `;\n",
              "      div.appendChild(label);\n",
              "      const progress = document.createElement('progress');\n",
              "      progress.max = size;\n",
              "      div.appendChild(progress);\n",
              "      document.body.appendChild(div);\n",
              "\n",
              "      const buffers = [];\n",
              "      let downloaded = 0;\n",
              "\n",
              "      const channel = await google.colab.kernel.comms.open(id);\n",
              "      // Send a message to notify the kernel that we're ready.\n",
              "      channel.send({})\n",
              "\n",
              "      for await (const message of channel.messages) {\n",
              "        // Send a message to notify the kernel that we're ready.\n",
              "        channel.send({})\n",
              "        if (message.buffers) {\n",
              "          for (const buffer of message.buffers) {\n",
              "            buffers.push(buffer);\n",
              "            downloaded += buffer.byteLength;\n",
              "            progress.value = downloaded;\n",
              "          }\n",
              "        }\n",
              "      }\n",
              "      const blob = new Blob(buffers, {type: 'application/binary'});\n",
              "      const a = document.createElement('a');\n",
              "      a.href = window.URL.createObjectURL(blob);\n",
              "      a.download = filename;\n",
              "      div.appendChild(a);\n",
              "      a.click();\n",
              "      div.remove();\n",
              "    }\n",
              "  "
            ]
          },
          "metadata": {}
        },
        {
          "output_type": "display_data",
          "data": {
            "text/plain": [
              "<IPython.core.display.Javascript object>"
            ],
            "application/javascript": [
              "download(\"download_cf1e65ee-4f64-42f0-a2d5-57984500f6d8\", \"irse_pypulseq_colab_1slices_FOV250.0_N128_TR4500.0_TE10.0_TI2000.0_thk6.0mm_enc_xyz.seq\", 112291)"
            ]
          },
          "metadata": {}
        },
        {
          "output_type": "stream",
          "name": "stdout",
          "text": [
            "Number of slices that can be accommodated =1.0\n",
            "Number of slices acquired per TR = 1.0\n"
          ]
        },
        {
          "output_type": "display_data",
          "data": {
            "text/plain": [
              "<IPython.core.display.Javascript object>"
            ],
            "application/javascript": [
              "\n",
              "    async function download(id, filename, size) {\n",
              "      if (!google.colab.kernel.accessAllowed) {\n",
              "        return;\n",
              "      }\n",
              "      const div = document.createElement('div');\n",
              "      const label = document.createElement('label');\n",
              "      label.textContent = `Downloading \"${filename}\": `;\n",
              "      div.appendChild(label);\n",
              "      const progress = document.createElement('progress');\n",
              "      progress.max = size;\n",
              "      div.appendChild(progress);\n",
              "      document.body.appendChild(div);\n",
              "\n",
              "      const buffers = [];\n",
              "      let downloaded = 0;\n",
              "\n",
              "      const channel = await google.colab.kernel.comms.open(id);\n",
              "      // Send a message to notify the kernel that we're ready.\n",
              "      channel.send({})\n",
              "\n",
              "      for await (const message of channel.messages) {\n",
              "        // Send a message to notify the kernel that we're ready.\n",
              "        channel.send({})\n",
              "        if (message.buffers) {\n",
              "          for (const buffer of message.buffers) {\n",
              "            buffers.push(buffer);\n",
              "            downloaded += buffer.byteLength;\n",
              "            progress.value = downloaded;\n",
              "          }\n",
              "        }\n",
              "      }\n",
              "      const blob = new Blob(buffers, {type: 'application/binary'});\n",
              "      const a = document.createElement('a');\n",
              "      a.href = window.URL.createObjectURL(blob);\n",
              "      a.download = filename;\n",
              "      div.appendChild(a);\n",
              "      a.click();\n",
              "      div.remove();\n",
              "    }\n",
              "  "
            ]
          },
          "metadata": {}
        },
        {
          "output_type": "display_data",
          "data": {
            "text/plain": [
              "<IPython.core.display.Javascript object>"
            ],
            "application/javascript": [
              "download(\"download_c6609771-45ca-4eea-8d3c-1b8023535038\", \"irse_pypulseq_colab_1slices_FOV250.0_N128_TR4500.0_TE10.0_TI3000.0_thk6.0mm_enc_xyz.seq\", 112291)"
            ]
          },
          "metadata": {}
        }
      ]
    },
    {
      "cell_type": "markdown",
      "metadata": {
        "id": "hsqRPD-M7d8P"
      },
      "source": [
        "## PLOT THE SEQUENCE\n",
        "Change the `time_range` (seconds) to view different parts of the sequence."
      ]
    },
    {
      "cell_type": "code",
      "metadata": {
        "id": "2O1upg9qL5L4",
        "colab": {
          "base_uri": "https://localhost:8080/",
          "height": 957
        },
        "outputId": "564bdeb1-ee89-4a3a-b31a-187b0b5c4d50"
      },
      "source": [
        "seq.plot(time_range=(2.99, 3.03))"
      ],
      "execution_count": null,
      "outputs": [
        {
          "output_type": "display_data",
          "data": {
            "text/plain": [
              "<Figure size 640x480 with 3 Axes>"
            ],
            "image/png": "[encoded data removed]"
          },
          "metadata": {}
        },
        {
          "output_type": "display_data",
          "data": {
            "text/plain": [
              "<Figure size 640x480 with 3 Axes>"
            ],
            "image/png": "[encoded data removed]"
          },
          "metadata": {}
        }
      ]
    },
    {
      "cell_type": "markdown",
      "metadata": {
        "id": "E7IvuunU67sp"
      },
      "source": [
        "## USE `seq.test_report()` TO SANITY-CHECK THE SEQUENCE\n",
        "This takes a long time. It may be skipped if you have validated the files or are trying to generate sequences quickly."
      ]
    },
    {
      "cell_type": "code",
      "metadata": {
        "id": "vxSE32S6LCTA",
        "colab": {
          "base_uri": "https://localhost:8080/"
        },
        "outputId": "a706984c-5357-4dc6-ee8e-c53f2c141b9b"
      },
      "source": [
        "print(seq.test_report())"
      ],
      "execution_count": null,
      "outputs": [
        {
          "output_type": "stream",
          "name": "stdout",
          "text": [
            "Number of blocks: 1536\n",
            "Number of events:\n",
            "RF:    384\n",
            "Gx:    512\n",
            "Gy:    256\n",
            "Gz:   1152\n",
            "ADC:    128\n",
            "Delay:      0\n",
            "Sequence duration: 576.000000 s\n",
            "TE: 0.010000 s\n",
            "TR: 4.500000 s\n",
            "Flip angle: 90.00 180.00 deg\n",
            "Unique k-space positions (aka cols, rows, etc.): 128 128 \n",
            "Dimensions: 2\n",
            "Spatial resolution: 1.98 mm\n",
            "Spatial resolution: 1.95 mm\n",
            "Repetitions/slices/contrasts: 1.0; range: [(1.0, 1.0)]\n",
            "Cartesian encoding trajectory detected\n",
            "Event timing check failed. Error listing follows:\n",
            " ['Event: 8 - [type: adc delay: 20.0 us dwell: 49843.75 ns]\\n', 'Event: 20 - [type: adc delay: 20.0 us dwell: 49843.75 ns]\\n', 'Event: 32 - [type: adc delay: 20.0 us dwell: 49843.75 ns]\\n', 'Event: 44 - [type: adc delay: 20.0 us dwell: 49843.75 ns]\\n', 'Event: 56 - [type: adc delay: 20.0 us dwell: 49843.75 ns]\\n', 'Event: 68 - [type: adc delay: 20.0 us dwell: 49843.75 ns]\\n', 'Event: 80 - [type: adc delay: 20.0 us dwell: 49843.75 ns]\\n', 'Event: 92 - [type: adc delay: 20.0 us dwell: 49843.75 ns]\\n', 'Event: 104 - [type: adc delay: 20.0 us dwell: 49843.75 ns]\\n', 'Event: 116 - [type: adc delay: 20.0 us dwell: 49843.75 ns]\\n', 'Event: 128 - [type: adc delay: 20.0 us dwell: 49843.75 ns]\\n', 'Event: 140 - [type: adc delay: 20.0 us dwell: 49843.75 ns]\\n', 'Event: 152 - [type: adc delay: 20.0 us dwell: 49843.75 ns]\\n', 'Event: 164 - [type: adc delay: 20.0 us dwell: 49843.75 ns]\\n', 'Event: 176 - [type: adc delay: 20.0 us dwell: 49843.75 ns]\\n', 'Event: 188 - [type: adc delay: 20.0 us dwell: 49843.75 ns]\\n', 'Event: 200 - [type: adc delay: 20.0 us dwell: 49843.75 ns]\\n', 'Event: 212 - [type: adc delay: 20.0 us dwell: 49843.75 ns]\\n', 'Event: 224 - [type: adc delay: 20.0 us dwell: 49843.75 ns]\\n', 'Event: 236 - [type: adc delay: 20.0 us dwell: 49843.75 ns]\\n', 'Event: 248 - [type: adc delay: 20.0 us dwell: 49843.75 ns]\\n', 'Event: 260 - [type: adc delay: 20.0 us dwell: 49843.75 ns]\\n', 'Event: 272 - [type: adc delay: 20.0 us dwell: 49843.75 ns]\\n', 'Event: 284 - [type: adc delay: 20.0 us dwell: 49843.75 ns]\\n', 'Event: 296 - [type: adc delay: 20.0 us dwell: 49843.75 ns]\\n', 'Event: 308 - [type: adc delay: 20.0 us dwell: 49843.75 ns]\\n', 'Event: 320 - [type: adc delay: 20.0 us dwell: 49843.75 ns]\\n', 'Event: 332 - [type: adc delay: 20.0 us dwell: 49843.75 ns]\\n', 'Event: 344 - [type: adc delay: 20.0 us dwell: 49843.75 ns]\\n', 'Event: 356 - [type: adc delay: 20.0 us dwell: 49843.75 ns]\\n', 'Event: 368 - [type: adc delay: 20.0 us dwell: 49843.75 ns]\\n', 'Event: 380 - [type: adc delay: 20.0 us dwell: 49843.75 ns]\\n', 'Event: 392 - [type: adc delay: 20.0 us dwell: 49843.75 ns]\\n', 'Event: 404 - [type: adc delay: 20.0 us dwell: 49843.75 ns]\\n', 'Event: 416 - [type: adc delay: 20.0 us dwell: 49843.75 ns]\\n', 'Event: 428 - [type: adc delay: 20.0 us dwell: 49843.75 ns]\\n', 'Event: 440 - [type: adc delay: 20.0 us dwell: 49843.75 ns]\\n', 'Event: 452 - [type: adc delay: 20.0 us dwell: 49843.75 ns]\\n', 'Event: 464 - [type: adc delay: 20.0 us dwell: 49843.75 ns]\\n', 'Event: 476 - [type: adc delay: 20.0 us dwell: 49843.75 ns]\\n', 'Event: 488 - [type: adc delay: 20.0 us dwell: 49843.75 ns]\\n', 'Event: 500 - [type: adc delay: 20.0 us dwell: 49843.75 ns]\\n', 'Event: 512 - [type: adc delay: 20.0 us dwell: 49843.75 ns]\\n', 'Event: 524 - [type: adc delay: 20.0 us dwell: 49843.75 ns]\\n', 'Event: 536 - [type: adc delay: 20.0 us dwell: 49843.75 ns]\\n', 'Event: 548 - [type: adc delay: 20.0 us dwell: 49843.75 ns]\\n', 'Event: 560 - [type: adc delay: 20.0 us dwell: 49843.75 ns]\\n', 'Event: 572 - [type: adc delay: 20.0 us dwell: 49843.75 ns]\\n', 'Event: 584 - [type: adc delay: 20.0 us dwell: 49843.75 ns]\\n', 'Event: 596 - [type: adc delay: 20.0 us dwell: 49843.75 ns]\\n', 'Event: 608 - [type: adc delay: 20.0 us dwell: 49843.75 ns]\\n', 'Event: 620 - [type: adc delay: 20.0 us dwell: 49843.75 ns]\\n', 'Event: 632 - [type: adc delay: 20.0 us dwell: 49843.75 ns]\\n', 'Event: 644 - [type: adc delay: 20.0 us dwell: 49843.75 ns]\\n', 'Event: 656 - [type: adc delay: 20.0 us dwell: 49843.75 ns]\\n', 'Event: 668 - [type: adc delay: 20.0 us dwell: 49843.75 ns]\\n', 'Event: 680 - [type: adc delay: 20.0 us dwell: 49843.75 ns]\\n', 'Event: 692 - [type: adc delay: 20.0 us dwell: 49843.75 ns]\\n', 'Event: 704 - [type: adc delay: 20.0 us dwell: 49843.75 ns]\\n', 'Event: 716 - [type: adc delay: 20.0 us dwell: 49843.75 ns]\\n', 'Event: 728 - [type: adc delay: 20.0 us dwell: 49843.75 ns]\\n', 'Event: 740 - [type: adc delay: 20.0 us dwell: 49843.75 ns]\\n', 'Event: 752 - [type: adc delay: 20.0 us dwell: 49843.75 ns]\\n', 'Event: 764 - [type: adc delay: 20.0 us dwell: 49843.75 ns]\\n', 'Event: 776 - [type: adc delay: 20.0 us dwell: 49843.75 ns]\\n', 'Event: 788 - [type: adc delay: 20.0 us dwell: 49843.75 ns]\\n', 'Event: 800 - [type: adc delay: 20.0 us dwell: 49843.75 ns]\\n', 'Event: 812 - [type: adc delay: 20.0 us dwell: 49843.75 ns]\\n', 'Event: 824 - [type: adc delay: 20.0 us dwell: 49843.75 ns]\\n', 'Event: 836 - [type: adc delay: 20.0 us dwell: 49843.75 ns]\\n', 'Event: 848 - [type: adc delay: 20.0 us dwell: 49843.75 ns]\\n', 'Event: 860 - [type: adc delay: 20.0 us dwell: 49843.75 ns]\\n', 'Event: 872 - [type: adc delay: 20.0 us dwell: 49843.75 ns]\\n', 'Event: 884 - [type: adc delay: 20.0 us dwell: 49843.75 ns]\\n', 'Event: 896 - [type: adc delay: 20.0 us dwell: 49843.75 ns]\\n', 'Event: 908 - [type: adc delay: 20.0 us dwell: 49843.75 ns]\\n', 'Event: 920 - [type: adc delay: 20.0 us dwell: 49843.75 ns]\\n', 'Event: 932 - [type: adc delay: 20.0 us dwell: 49843.75 ns]\\n', 'Event: 944 - [type: adc delay: 20.0 us dwell: 49843.75 ns]\\n', 'Event: 956 - [type: adc delay: 20.0 us dwell: 49843.75 ns]\\n', 'Event: 968 - [type: adc delay: 20.0 us dwell: 49843.75 ns]\\n', 'Event: 980 - [type: adc delay: 20.0 us dwell: 49843.75 ns]\\n', 'Event: 992 - [type: adc delay: 20.0 us dwell: 49843.75 ns]\\n', 'Event: 1004 - [type: adc delay: 20.0 us dwell: 49843.75 ns]\\n', 'Event: 1016 - [type: adc delay: 20.0 us dwell: 49843.75 ns]\\n', 'Event: 1028 - [type: adc delay: 20.0 us dwell: 49843.75 ns]\\n', 'Event: 1040 - [type: adc delay: 20.0 us dwell: 49843.75 ns]\\n', 'Event: 1052 - [type: adc delay: 20.0 us dwell: 49843.75 ns]\\n', 'Event: 1064 - [type: adc delay: 20.0 us dwell: 49843.75 ns]\\n', 'Event: 1076 - [type: adc delay: 20.0 us dwell: 49843.75 ns]\\n', 'Event: 1088 - [type: adc delay: 20.0 us dwell: 49843.75 ns]\\n', 'Event: 1100 - [type: adc delay: 20.0 us dwell: 49843.75 ns]\\n', 'Event: 1112 - [type: adc delay: 20.0 us dwell: 49843.75 ns]\\n', 'Event: 1124 - [type: adc delay: 20.0 us dwell: 49843.75 ns]\\n', 'Event: 1136 - [type: adc delay: 20.0 us dwell: 49843.75 ns]\\n', 'Event: 1148 - [type: adc delay: 20.0 us dwell: 49843.75 ns]\\n', 'Event: 1160 - [type: adc delay: 20.0 us dwell: 49843.75 ns]\\n', 'Event: 1172 - [type: adc delay: 20.0 us dwell: 49843.75 ns]\\n', 'Event: 1184 - [type: adc delay: 20.0 us dwell: 49843.75 ns]\\n', 'Event: 1196 - [type: adc delay: 20.0 us dwell: 49843.75 ns]\\n', 'Event: 1208 - [type: adc delay: 20.0 us dwell: 49843.75 ns]\\n', 'Event: 1220 - [type: adc delay: 20.0 us dwell: 49843.75 ns]\\n', 'Event: 1232 - [type: adc delay: 20.0 us dwell: 49843.75 ns]\\n', 'Event: 1244 - [type: adc delay: 20.0 us dwell: 49843.75 ns]\\n', 'Event: 1256 - [type: adc delay: 20.0 us dwell: 49843.75 ns]\\n', 'Event: 1268 - [type: adc delay: 20.0 us dwell: 49843.75 ns]\\n', 'Event: 1280 - [type: adc delay: 20.0 us dwell: 49843.75 ns]\\n', 'Event: 1292 - [type: adc delay: 20.0 us dwell: 49843.75 ns]\\n', 'Event: 1304 - [type: adc delay: 20.0 us dwell: 49843.75 ns]\\n', 'Event: 1316 - [type: adc delay: 20.0 us dwell: 49843.75 ns]\\n', 'Event: 1328 - [type: adc delay: 20.0 us dwell: 49843.75 ns]\\n', 'Event: 1340 - [type: adc delay: 20.0 us dwell: 49843.75 ns]\\n', 'Event: 1352 - [type: adc delay: 20.0 us dwell: 49843.75 ns]\\n', 'Event: 1364 - [type: adc delay: 20.0 us dwell: 49843.75 ns]\\n', 'Event: 1376 - [type: adc delay: 20.0 us dwell: 49843.75 ns]\\n', 'Event: 1388 - [type: adc delay: 20.0 us dwell: 49843.75 ns]\\n', 'Event: 1400 - [type: adc delay: 20.0 us dwell: 49843.75 ns]\\n', 'Event: 1412 - [type: adc delay: 20.0 us dwell: 49843.75 ns]\\n', 'Event: 1424 - [type: adc delay: 20.0 us dwell: 49843.75 ns]\\n', 'Event: 1436 - [type: adc delay: 20.0 us dwell: 49843.75 ns]\\n', 'Event: 1448 - [type: adc delay: 20.0 us dwell: 49843.75 ns]\\n', 'Event: 1460 - [type: adc delay: 20.0 us dwell: 49843.75 ns]\\n', 'Event: 1472 - [type: adc delay: 20.0 us dwell: 49843.75 ns]\\n', 'Event: 1484 - [type: adc delay: 20.0 us dwell: 49843.75 ns]\\n', 'Event: 1496 - [type: adc delay: 20.0 us dwell: 49843.75 ns]\\n', 'Event: 1508 - [type: adc delay: 20.0 us dwell: 49843.75 ns]\\n', 'Event: 1520 - [type: adc delay: 20.0 us dwell: 49843.75 ns]\\n', 'Event: 1532 - [type: adc delay: 20.0 us dwell: 49843.75 ns]\\n']Max gradient: 1208949 581818 1340909 Hz/m == 28.40 13.67 31.49 mT/m\n",
            "Max slew rate: 4835797226 2327272727 5363636365 Hz/m/s == 113.58 54.66 125.98 T/m/s\n",
            "Max absolute gradient: 1896868 Hz/m == 44.55 mT/m\n",
            "Max absolute slew rate: 7.38825e+09 Hz/m/s == 173.53 T/m/s\n"
          ]
        }
      ]
    },
    {
      "cell_type": "markdown",
      "metadata": {
        "id": "3Z3I09mw7mF4"
      },
      "source": [
        "## WRITE THE SEQUENCE TO FILE AND DOWNLOAD"
      ]
    },
    {
      "cell_type": "code",
      "metadata": {
        "id": "mZnTYGkWL6eq"
      },
      "source": [
        "#   seq.set_definition('FOV', [fov fov slice_thickness]);\n",
        "#   seq.set_definition('SlicePositions', 0);\n",
        "#   seq.set_definition('SliceThickness', slice_thickness);\n",
        "#   seq.set_definition('SliceGap', 0);\n",
        "#  seq.write(f'irse_pypulseq_colab.seq')  # Generate .seq file\n",
        "#  from google.colab import files\n",
        "#  files.download(f'irse_pypulseq_colab.seq')  # Download locally"
      ],
      "execution_count": null,
      "outputs": []
    }
  ]
}